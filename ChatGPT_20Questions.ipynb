{
 "cells": [
  {
   "cell_type": "markdown",
   "id": "b1ba7d56-ab1a-4212-ac20-1dc0a51e29ce",
   "metadata": {},
   "source": [
    "# Companion notebook for blog \"What is ChatGPT Thinking?\"\n",
    "This contains the \"time-travel\" experiments performed with \"gpt-3-turbo-0301\".  The `top_p` parameter is set to 0.01 which causes nearly deterministic model behavior."
   ]
  },
  {
   "cell_type": "markdown",
   "id": "25428f9f-545d-47cd-9f77-a82ebd1e1aee",
   "metadata": {},
   "source": [
    "# Setup"
   ]
  },
  {
   "cell_type": "code",
   "execution_count": 1,
   "id": "28f74140-9ea6-4845-84e7-479315837322",
   "metadata": {},
   "outputs": [],
   "source": [
    "import openai\n",
    "openai.api_key = '<your key goes here>'\n",
    "\n",
    "system_prompt = [{\"role\": \"system\", \"content\": \"You are a helpful assistant.\"}]\n",
    "\n",
    "def send(message, transcript=system_prompt):\n",
    "    out_transcript = [*transcript, {\"role\":\"user\", \"content\":message}]\n",
    "    \n",
    "    response = openai.ChatCompletion.create(\n",
    "          model=\"gpt-3.5-turbo-0301\",\n",
    "          top_p=0.01,\n",
    "          messages=out_transcript)\n",
    "    \n",
    "    out_transcript = [*out_transcript, dict(response[\"choices\"][0].message)]\n",
    "    \n",
    "    print(out_transcript[-1]['content'])\n",
    "    print('')\n",
    "    return out_transcript\n"
   ]
  },
  {
   "cell_type": "markdown",
   "id": "a0b8cd3e-76a7-441c-9dbd-5b9a0ac01b5b",
   "metadata": {},
   "source": [
    "# Test it"
   ]
  },
  {
   "cell_type": "code",
   "execution_count": 2,
   "id": "4efe1008-d180-4bec-9cb5-afbee097494f",
   "metadata": {},
   "outputs": [
    {
     "name": "stdout",
     "output_type": "stream",
     "text": [
      "Elves are often portrayed as aloof because they are typically depicted as being more intelligent, graceful, and long-lived than humans. They may also have a different perspective on the world due to their magical abilities and connection to nature. Additionally, elves are often portrayed as being more reserved and private than humans, which can come across as aloofness. However, it's important to note that not all depictions of elves portray them as aloof, and there is a wide variety of interpretations of this mythical creature.\n",
      "\n",
      "Certainly! In J.R.R. Tolkien's \"The Lord of the Rings\" series, the elves are not portrayed as aloof. They are shown to be wise, powerful, and graceful, but they are also deeply connected to the world around them and are willing to help those in need. They form close bonds with the other characters, particularly the hobbits, and are willing to fight alongside them in battles against evil. In fact, the elves are often portrayed as being more compassionate and empathetic than the other races in Middle-earth. So, while some depictions of elves may show them as aloof, there are certainly examples where they are portrayed as warm and caring beings.\n",
      "\n"
     ]
    }
   ],
   "source": [
    "transcript = send('Why are elves so aloof?')\n",
    "transcript = send('Can you share a portrayal where elves are not aloof?', transcript)"
   ]
  },
  {
   "cell_type": "markdown",
   "id": "3fb07930-c7ca-41af-b6aa-981556877c2d",
   "metadata": {
    "tags": []
   },
   "source": [
    "# Experiment 1\n",
    "## Initial Dialog"
   ]
  },
  {
   "cell_type": "code",
   "execution_count": 3,
   "id": "696704fe-6927-4e53-a5e5-fd6856fc0b1e",
   "metadata": {},
   "outputs": [
    {
     "name": "stdout",
     "output_type": "stream",
     "text": [
      "Sure, I'm ready. Go ahead and ask me your questions.\n",
      "\n",
      "Yes, it does have moving parts.\n",
      "\n",
      "Some versions of this object do use electricity, but not all of them.\n",
      "\n",
      "Yes, it can be used for calculation.\n",
      "\n",
      "Yes, it is a computer.\n",
      "\n",
      "As an AI language model, I don't have personal preferences or emotions, so I didn't choose a computer because I like it or anything like that. I simply answered your questions truthfully based on the characteristics you asked about, and the object that fit those characteristics happened to be a computer.\n",
      "\n"
     ]
    }
   ],
   "source": [
    "transcript = send('I would like you to think of an object.  I will ask you questions to try to figure out what it is.')\n",
    "transcript = send('Does it have moving parts?', transcript)\n",
    "transcript = send('Does it use electricity?', transcript)\n",
    "transcript = send('Is it used for calculation?', transcript)\n",
    "transcript = send('Is it a computer?', transcript)\n",
    "\n",
    "transcript = send('What made you choose a computer?', transcript)"
   ]
  },
  {
   "cell_type": "markdown",
   "id": "76050874-be90-4a9c-852b-78688e57f5fa",
   "metadata": {},
   "source": [
    "### Alternate branch 1"
   ]
  },
  {
   "cell_type": "code",
   "execution_count": 4,
   "id": "41acb63d-1883-4579-915a-e0fbc02d69fd",
   "metadata": {},
   "outputs": [
    {
     "name": "stdout",
     "output_type": "stream",
     "text": [
      "Sure, I'm ready. Go ahead and ask me your questions.\n",
      "\n",
      "Yes, it does have moving parts.\n",
      "\n",
      "Some versions of this object do use electricity, but not all of them.\n",
      "\n",
      "No, it's not a computer.\n",
      "\n"
     ]
    }
   ],
   "source": [
    "transcript = send('I would like you to think of an object.  I will ask you questions to try to figure out what it is.')\n",
    "transcript = send('Does it have moving parts?', transcript)\n",
    "transcript = send('Does it use electricity?', transcript)\n",
    "transcript = send('Is it a computer?', transcript)"
   ]
  },
  {
   "cell_type": "markdown",
   "id": "a6e6e967-3aae-4f3e-af3f-615dbd3d922d",
   "metadata": {},
   "source": [
    "### Alternate branch 2"
   ]
  },
  {
   "cell_type": "code",
   "execution_count": 5,
   "id": "40ee8bb0-3515-4ff7-a63e-ee4b2c9e1669",
   "metadata": {},
   "outputs": [
    {
     "name": "stdout",
     "output_type": "stream",
     "text": [
      "Sure, I'm ready. Go ahead and ask me your questions.\n",
      "\n",
      "Yes, it does have moving parts.\n",
      "\n",
      "No, it is not a computer.\n",
      "\n"
     ]
    }
   ],
   "source": [
    "transcript = send('I would like you to think of an object.  I will ask you questions to try to figure out what it is.')\n",
    "transcript = send('Does it have moving parts?', transcript)\n",
    "transcript = send('Is it a computer?', transcript)"
   ]
  },
  {
   "cell_type": "markdown",
   "id": "a4af9423-b599-4efe-adf8-24b674244956",
   "metadata": {},
   "source": [
    "# Experiment 2\n",
    "Can satisfy it by providing it with the solution it offers one step prior in the conversation?\n",
    "\n",
    "## Conversation 1"
   ]
  },
  {
   "cell_type": "code",
   "execution_count": 6,
   "id": "c160bd5a-7206-4d56-a97f-c533ce86ecb4",
   "metadata": {},
   "outputs": [
    {
     "name": "stdout",
     "output_type": "stream",
     "text": [
      "Sure, I'm ready. Go ahead and ask me your questions.\n",
      "\n",
      "Yes, it does have moving parts.\n",
      "\n",
      "No, it is not a computer.\n",
      "\n",
      "It is a bicycle.\n",
      "\n"
     ]
    }
   ],
   "source": [
    "transcript = send('I would like you to think of an object.  I will ask you questions to try to figure out what it is.')\n",
    "transcript = send('Does it have moving parts?', transcript)\n",
    "transcript = send('Is it a computer?', transcript)\n",
    "transcript = send('I give up. What is it?', transcript)"
   ]
  },
  {
   "cell_type": "markdown",
   "id": "5dc9599e-024f-4b59-bfbb-a3671579ee0d",
   "metadata": {},
   "source": [
    "## Conversation 2"
   ]
  },
  {
   "cell_type": "code",
   "execution_count": 7,
   "id": "28e8a702-0650-48b1-a3e1-f709f3f12528",
   "metadata": {},
   "outputs": [
    {
     "name": "stdout",
     "output_type": "stream",
     "text": [
      "Sure, I'm ready. Go ahead and ask me your questions.\n",
      "\n",
      "Yes, it does have moving parts.\n",
      "\n",
      "No, it's not a bicycle.\n",
      "\n",
      "It's a windmill.\n",
      "\n"
     ]
    }
   ],
   "source": [
    "transcript = send('I would like you to think of an object.  I will ask you questions to try to figure out what it is.')\n",
    "transcript = send('Does it have moving parts?', transcript)\n",
    "transcript = send('Is it a bicycle?', transcript)\n",
    "transcript = send('I give up. What is it?', transcript)"
   ]
  },
  {
   "cell_type": "markdown",
   "id": "7c043271-db12-418e-bb60-0112ce6b3628",
   "metadata": {},
   "source": [
    "## Conversation 3"
   ]
  },
  {
   "cell_type": "code",
   "execution_count": 8,
   "id": "c559d472-9dc8-4473-968a-62a98d8d0ee2",
   "metadata": {},
   "outputs": [
    {
     "name": "stdout",
     "output_type": "stream",
     "text": [
      "Sure, I'm ready. Go ahead and ask me your questions.\n",
      "\n",
      "Yes, it does have moving parts.\n",
      "\n",
      "No, it's not a windmill.\n",
      "\n",
      "I'm sorry if I made it too difficult. I didn't mean to. I was actually thinking of a bicycle.\n",
      "\n"
     ]
    }
   ],
   "source": [
    "transcript = send('I would like you to think of an object.  I will ask you questions to try to figure out what it is.')\n",
    "transcript = send('Does it have moving parts?', transcript)\n",
    "transcript = send('Is it a windmill?', transcript)\n",
    "transcript = send('I give up. What is it?', transcript)"
   ]
  },
  {
   "cell_type": "markdown",
   "id": "fb1616dc-c691-4324-b64c-073366b61035",
   "metadata": {},
   "source": [
    "# Experiment 3\n",
    "## Is it biased to answer yes to my questions?"
   ]
  },
  {
   "cell_type": "code",
   "execution_count": 9,
   "id": "1df50da8-d49a-46b2-b009-b6ebbdb2fbca",
   "metadata": {},
   "outputs": [
    {
     "name": "stdout",
     "output_type": "stream",
     "text": [
      "Sure, I'm ready. Go ahead and ask me your questions.\n",
      "\n",
      "Yes, it is smaller than a human.\n",
      "\n"
     ]
    }
   ],
   "source": [
    "transcript = send('I would like you to think of an object.  I will ask you questions to try to figure out what it is.')\n",
    "transcript = send('Is it smaller than a human', transcript)"
   ]
  },
  {
   "cell_type": "code",
   "execution_count": 10,
   "id": "bac28430-66b2-4cc6-bfea-2fe021b821ae",
   "metadata": {},
   "outputs": [
    {
     "name": "stdout",
     "output_type": "stream",
     "text": [
      "Sure, I'm ready. Go ahead and ask me your questions.\n",
      "\n",
      "No, it is not larger than a human.\n",
      "\n"
     ]
    }
   ],
   "source": [
    "transcript = send('I would like you to think of an object.  I will ask you questions to try to figure out what it is.')\n",
    "transcript = send('Is it larger than a human', transcript)"
   ]
  },
  {
   "cell_type": "code",
   "execution_count": 11,
   "id": "8e4199d0-96db-4fab-be3b-b5914550fa7f",
   "metadata": {},
   "outputs": [
    {
     "name": "stdout",
     "output_type": "stream",
     "text": [
      "Sure, I'm ready. Go ahead and ask me your questions.\n",
      "\n",
      "Yes, it can be used as a tool.\n",
      "\n"
     ]
    }
   ],
   "source": [
    "transcript = send('I would like you to think of an object.  I will ask you questions to try to figure out what it is.')\n",
    "transcript = send('Is it used as a tool?', transcript)"
   ]
  },
  {
   "cell_type": "code",
   "execution_count": 12,
   "id": "daf5b065-335c-47bf-9900-ba6c6d785529",
   "metadata": {},
   "outputs": [
    {
     "name": "stdout",
     "output_type": "stream",
     "text": [
      "Sure, I'm ready. Go ahead and ask me your questions.\n",
      "\n",
      "Yes, it can be used as a decoration.\n",
      "\n"
     ]
    }
   ],
   "source": [
    "transcript = send('I would like you to think of an object.  I will ask you questions to try to figure out what it is.')\n",
    "transcript = send('Is it used as a decration', transcript)"
   ]
  },
  {
   "cell_type": "code",
   "execution_count": 13,
   "id": "843c6550-cc39-4047-ac41-8d1f310d120f",
   "metadata": {},
   "outputs": [
    {
     "name": "stdout",
     "output_type": "stream",
     "text": [
      "Sure, I'm ready. Go ahead and ask me your questions.\n",
      "\n",
      "Yes, it can be worn as an article of clothing.\n",
      "\n"
     ]
    }
   ],
   "source": [
    "transcript = send('I would like you to think of an object.  I will ask you questions to try to figure out what it is.')\n",
    "transcript = send('Can it be worn as an article of clothing?', transcript)"
   ]
  },
  {
   "cell_type": "code",
   "execution_count": 14,
   "id": "df52a462-0d10-404f-811f-092b2775c813",
   "metadata": {},
   "outputs": [
    {
     "name": "stdout",
     "output_type": "stream",
     "text": [
      "Sure, I'm ready. Go ahead and ask me your questions.\n",
      "\n",
      "Yes, it can be used for painting a house.\n",
      "\n"
     ]
    }
   ],
   "source": [
    "transcript = send('I would like you to think of an object.  I will ask you questions to try to figure out what it is.')\n",
    "transcript = send('Can it be used for painting a house?', transcript)"
   ]
  },
  {
   "cell_type": "code",
   "execution_count": 15,
   "id": "fbc0454c-d071-490c-bcf5-94510def432a",
   "metadata": {},
   "outputs": [
    {
     "name": "stdout",
     "output_type": "stream",
     "text": [
      "Sure, I'm ready. Go ahead and ask me your questions.\n",
      "\n",
      "Yes, it can be used for filling a car with gas.\n",
      "\n"
     ]
    }
   ],
   "source": [
    "transcript = send('I would like you to think of an object.  I will ask you questions to try to figure out what it is.')\n",
    "transcript = send('Can it be used for filling a car with gas?', transcript)"
   ]
  },
  {
   "cell_type": "code",
   "execution_count": 16,
   "id": "52e1d1f1-bf37-446f-8bf6-b89f602dd499",
   "metadata": {},
   "outputs": [
    {
     "name": "stdout",
     "output_type": "stream",
     "text": [
      "Sure, I'm ready. Go ahead and ask me your questions.\n",
      "\n",
      "Yes, it can be used for traveling between planets.\n",
      "\n",
      "Yes, it is a spacecraft.\n",
      "\n"
     ]
    }
   ],
   "source": [
    "transcript = send('I would like you to think of an object.  I will ask you questions to try to figure out what it is.')\n",
    "transcript = send('Can it be used for traveling between planets?', transcript)\n",
    "transcript = send('Is it a spacecraft?', transcript)"
   ]
  }
 ],
 "metadata": {
  "kernelspec": {
   "display_name": "Python 3 (ipykernel)",
   "language": "python",
   "name": "python3"
  },
  "language_info": {
   "codemirror_mode": {
    "name": "ipython",
    "version": 3
   },
   "file_extension": ".py",
   "mimetype": "text/x-python",
   "name": "python",
   "nbconvert_exporter": "python",
   "pygments_lexer": "ipython3",
   "version": "3.8.11"
  }
 },
 "nbformat": 4,
 "nbformat_minor": 5
}
